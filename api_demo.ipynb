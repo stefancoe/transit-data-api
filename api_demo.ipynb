{
 "cells": [
  {
   "cell_type": "code",
   "execution_count": 1,
   "id": "e20abc6e",
   "metadata": {},
   "outputs": [],
   "source": [
    "import pandas as pd\n",
    "import plotly.express as px\n",
    "import plotly.graph_objects as go\n",
    "import numpy as np\n",
    "import requests\n",
    "import ipywidgets as widgets\n",
    "from IPython.display import display\n"
   ]
  },
  {
   "cell_type": "code",
   "execution_count": 9,
   "id": "f19765a2",
   "metadata": {},
   "outputs": [
    {
     "name": "stdout",
     "output_type": "stream",
     "text": [
      "{'message': 'Hello World'}\n"
     ]
    }
   ],
   "source": [
    "base_url = 'https://fastapi-render-example-jqwi.onrender.com/'\n",
    "response = requests.get(base_url).json()\n",
    "print (response)"
   ]
  },
  {
   "cell_type": "code",
   "execution_count": 2,
   "id": "66c51e20",
   "metadata": {},
   "outputs": [],
   "source": [
    "def get_map(df, lat_col, lon_col, color_field):\n",
    "    fig = px.scatter_map(df, lat=df[lat_col], lon = df[lon_col], zoom=8, color=color_field)\n",
    "    fig.update_layout(mapbox_style=\"carto-positron\")\n",
    "    fig.update_layout(margin={\"r\":0,\"t\":0,\"l\":0,\"b\":0})\n",
    "    return fig "
   ]
  },
  {
   "cell_type": "code",
   "execution_count": 3,
   "id": "1710afda",
   "metadata": {},
   "outputs": [],
   "source": [
    "base_url = 'http://localhost:8000/'\n",
    "routes = requests.get(base_url + 'route_ids').json()\n"
   ]
  },
  {
   "cell_type": "code",
   "execution_count": 4,
   "id": "1ba76e35",
   "metadata": {},
   "outputs": [
    {
     "data": {
      "text/plain": [
       "['101_N',\n",
       " '101_S',\n",
       " '102_E',\n",
       " '102_W',\n",
       " '103_N',\n",
       " '103_S',\n",
       " '106_N',\n",
       " '106_S',\n",
       " '109_N',\n",
       " '109_S',\n",
       " '111_E',\n",
       " '111_W',\n",
       " '112_N',\n",
       " '112_S',\n",
       " '114_N',\n",
       " '114_S',\n",
       " '117_N',\n",
       " '117_S',\n",
       " '119_N',\n",
       " '119_S',\n",
       " '120_E',\n",
       " '120_W',\n",
       " '121_N',\n",
       " '121_S',\n",
       " '130_E',\n",
       " '130_W',\n",
       " '166_E',\n",
       " '166_W',\n",
       " '201_N',\n",
       " '201_S',\n",
       " '202_N',\n",
       " '202_S',\n",
       " '209_N',\n",
       " '209_S',\n",
       " '220_E',\n",
       " '220_W',\n",
       " '222_E',\n",
       " '222_W',\n",
       " '230_E',\n",
       " '230_W',\n",
       " '240_E',\n",
       " '240_W',\n",
       " '270_E',\n",
       " '270_W',\n",
       " '271_E',\n",
       " '271_W',\n",
       " '280_E',\n",
       " '280_W',\n",
       " '424_N',\n",
       " '424_S',\n",
       " '510_N',\n",
       " '510_S',\n",
       " '512_N',\n",
       " '512_S',\n",
       " '513_N',\n",
       " '513_S',\n",
       " '515_N',\n",
       " '515_S',\n",
       " '532_N',\n",
       " '532_S',\n",
       " '535_N',\n",
       " '535_S',\n",
       " '701_N',\n",
       " '701_S',\n",
       " '702_N',\n",
       " '702_S',\n",
       " '703_E',\n",
       " '703_W',\n",
       " '901_N',\n",
       " '901_S',\n",
       " '903_N',\n",
       " '903_S',\n",
       " '904_N',\n",
       " '904_S',\n",
       " '905_N',\n",
       " '905_S',\n",
       " '907_N',\n",
       " '907_S',\n",
       " '909_E',\n",
       " '909_W']"
      ]
     },
     "execution_count": 4,
     "metadata": {},
     "output_type": "execute_result"
    }
   ],
   "source": [
    "routes"
   ]
  },
  {
   "cell_type": "code",
   "execution_count": 5,
   "id": "e1fc2939",
   "metadata": {},
   "outputs": [
    {
     "data": {
      "application/vnd.jupyter.widget-view+json": {
       "model_id": "5e9435da109344f58be256228bc6d767",
       "version_major": 2,
       "version_minor": 0
      },
      "text/plain": [
       "Dropdown(description='Number:', options=('101_N', '101_S', '102_E', '102_W', '103_N', '103_S', '106_N', '106_S…"
      ]
     },
     "metadata": {},
     "output_type": "display_data"
    }
   ],
   "source": [
    "dd = widgets.Dropdown(\n",
    "    options=routes,\n",
    "    value=routes[0],\n",
    "    description='Number:',\n",
    "    disabled=False,\n",
    ")\n",
    "display(dd)"
   ]
  },
  {
   "cell_type": "code",
   "execution_count": 6,
   "id": "93b3dc1e",
   "metadata": {},
   "outputs": [
    {
     "data": {
      "text/plain": [
       "'103_S'"
      ]
     },
     "execution_count": 6,
     "metadata": {},
     "output_type": "execute_result"
    }
   ],
   "source": [
    "dd.value"
   ]
  },
  {
   "cell_type": "code",
   "execution_count": 8,
   "id": "ccab65c2",
   "metadata": {},
   "outputs": [
    {
     "data": {
      "application/vnd.plotly.v1+json": {
       "config": {
        "plotlyServerURL": "https://plot.ly"
       },
       "data": [
        {
         "hovertemplate": "stop_lat=%{lat}<br>stop_lon=%{lon}<br>stop_sequence=%{marker.color}<extra></extra>",
         "lat": {
          "bdata": "H/KWqx/jR0AujV94JeNHQORmuAGf40dAQgWHF0TkR0BKDAIrh+RHQDNRhNTt5EdAJLVQMjnlR0B4Qq8/ieVHQJ9VZkrr5UdAPiR872/mR0DVzjC1peZHQDIAVHHj5kdAG53zUxznR0ALQnkfR+dHQMpS6/1G50dA9BlQb0bnR0CtbYrHRedHQCKq8Gd450dAoOHNGrznR0Ck5NU5BuhHQPuvc9Nm6EdAgAwdO6joR0Dbv7LSpOhHQLNg4o+i6EdAmzi536HoR0BUjPM3oehHQLqFrkSg6EdArws/OJ/oR0BZbf5fdehHQA==",
          "dtype": "f8"
         },
         "legendgroup": "",
         "lon": {
          "bdata": "KQXdXtKVXsCDaRg+IpZewOasTzkmll7A0c/U6xaWXsA57Sk5J5ZewBugNNQoll7A5US7CimWXsCAZaVJKZZewAIqHEEqll7ArptSXiuWXsBD5V/LK5ZewA2K5gEsll7AxsN7DiyWXsBWfhmMEZZewEmGHFvPlV7AgT0mUpqVXsCfOlYpPZVewPBt+rMflV7A/rRRnQ6VXsALmwEuyJRewCiaB7DIlF7ASx+6oL6UXsBe2QWDa5RewJMehlYnlF7AoiWPp+WTXsAVcxB0tJNewGJlNPJ5k17AHXOesS+TXsA/NsmP+JJewA==",
          "dtype": "f8"
         },
         "marker": {
          "color": {
           "bdata": "AQIDBAUGBwgJCgsMDQ4PEBESExQVFhcYGRobHB0=",
           "dtype": "i1"
          },
          "coloraxis": "coloraxis"
         },
         "mode": "markers",
         "name": "",
         "showlegend": false,
         "subplot": "map",
         "type": "scattermap"
        }
       ],
       "layout": {
        "coloraxis": {
         "colorbar": {
          "title": {
           "text": "stop_sequence"
          }
         },
         "colorscale": [
          [
           0,
           "#0d0887"
          ],
          [
           0.1111111111111111,
           "#46039f"
          ],
          [
           0.2222222222222222,
           "#7201a8"
          ],
          [
           0.3333333333333333,
           "#9c179e"
          ],
          [
           0.4444444444444444,
           "#bd3786"
          ],
          [
           0.5555555555555556,
           "#d8576b"
          ],
          [
           0.6666666666666666,
           "#ed7953"
          ],
          [
           0.7777777777777778,
           "#fb9f3a"
          ],
          [
           0.8888888888888888,
           "#fdca26"
          ],
          [
           1,
           "#f0f921"
          ]
         ]
        },
        "legend": {
         "tracegroupgap": 0
        },
        "map": {
         "center": {
          "lat": 47.8030751724138,
          "lon": -122.33227324137931
         },
         "domain": {
          "x": [
           0,
           1
          ],
          "y": [
           0,
           1
          ]
         },
         "zoom": 8
        },
        "mapbox": {
         "center": {
          "lat": 47.8030751724138,
          "lon": -122.33227324137931
         },
         "style": "carto-positron",
         "zoom": 8
        },
        "margin": {
         "b": 0,
         "l": 0,
         "r": 0,
         "t": 0
        },
        "template": {
         "data": {
          "bar": [
           {
            "error_x": {
             "color": "#2a3f5f"
            },
            "error_y": {
             "color": "#2a3f5f"
            },
            "marker": {
             "line": {
              "color": "#E5ECF6",
              "width": 0.5
             },
             "pattern": {
              "fillmode": "overlay",
              "size": 10,
              "solidity": 0.2
             }
            },
            "type": "bar"
           }
          ],
          "barpolar": [
           {
            "marker": {
             "line": {
              "color": "#E5ECF6",
              "width": 0.5
             },
             "pattern": {
              "fillmode": "overlay",
              "size": 10,
              "solidity": 0.2
             }
            },
            "type": "barpolar"
           }
          ],
          "carpet": [
           {
            "aaxis": {
             "endlinecolor": "#2a3f5f",
             "gridcolor": "white",
             "linecolor": "white",
             "minorgridcolor": "white",
             "startlinecolor": "#2a3f5f"
            },
            "baxis": {
             "endlinecolor": "#2a3f5f",
             "gridcolor": "white",
             "linecolor": "white",
             "minorgridcolor": "white",
             "startlinecolor": "#2a3f5f"
            },
            "type": "carpet"
           }
          ],
          "choropleth": [
           {
            "colorbar": {
             "outlinewidth": 0,
             "ticks": ""
            },
            "type": "choropleth"
           }
          ],
          "contour": [
           {
            "colorbar": {
             "outlinewidth": 0,
             "ticks": ""
            },
            "colorscale": [
             [
              0,
              "#0d0887"
             ],
             [
              0.1111111111111111,
              "#46039f"
             ],
             [
              0.2222222222222222,
              "#7201a8"
             ],
             [
              0.3333333333333333,
              "#9c179e"
             ],
             [
              0.4444444444444444,
              "#bd3786"
             ],
             [
              0.5555555555555556,
              "#d8576b"
             ],
             [
              0.6666666666666666,
              "#ed7953"
             ],
             [
              0.7777777777777778,
              "#fb9f3a"
             ],
             [
              0.8888888888888888,
              "#fdca26"
             ],
             [
              1,
              "#f0f921"
             ]
            ],
            "type": "contour"
           }
          ],
          "contourcarpet": [
           {
            "colorbar": {
             "outlinewidth": 0,
             "ticks": ""
            },
            "type": "contourcarpet"
           }
          ],
          "heatmap": [
           {
            "colorbar": {
             "outlinewidth": 0,
             "ticks": ""
            },
            "colorscale": [
             [
              0,
              "#0d0887"
             ],
             [
              0.1111111111111111,
              "#46039f"
             ],
             [
              0.2222222222222222,
              "#7201a8"
             ],
             [
              0.3333333333333333,
              "#9c179e"
             ],
             [
              0.4444444444444444,
              "#bd3786"
             ],
             [
              0.5555555555555556,
              "#d8576b"
             ],
             [
              0.6666666666666666,
              "#ed7953"
             ],
             [
              0.7777777777777778,
              "#fb9f3a"
             ],
             [
              0.8888888888888888,
              "#fdca26"
             ],
             [
              1,
              "#f0f921"
             ]
            ],
            "type": "heatmap"
           }
          ],
          "histogram": [
           {
            "marker": {
             "pattern": {
              "fillmode": "overlay",
              "size": 10,
              "solidity": 0.2
             }
            },
            "type": "histogram"
           }
          ],
          "histogram2d": [
           {
            "colorbar": {
             "outlinewidth": 0,
             "ticks": ""
            },
            "colorscale": [
             [
              0,
              "#0d0887"
             ],
             [
              0.1111111111111111,
              "#46039f"
             ],
             [
              0.2222222222222222,
              "#7201a8"
             ],
             [
              0.3333333333333333,
              "#9c179e"
             ],
             [
              0.4444444444444444,
              "#bd3786"
             ],
             [
              0.5555555555555556,
              "#d8576b"
             ],
             [
              0.6666666666666666,
              "#ed7953"
             ],
             [
              0.7777777777777778,
              "#fb9f3a"
             ],
             [
              0.8888888888888888,
              "#fdca26"
             ],
             [
              1,
              "#f0f921"
             ]
            ],
            "type": "histogram2d"
           }
          ],
          "histogram2dcontour": [
           {
            "colorbar": {
             "outlinewidth": 0,
             "ticks": ""
            },
            "colorscale": [
             [
              0,
              "#0d0887"
             ],
             [
              0.1111111111111111,
              "#46039f"
             ],
             [
              0.2222222222222222,
              "#7201a8"
             ],
             [
              0.3333333333333333,
              "#9c179e"
             ],
             [
              0.4444444444444444,
              "#bd3786"
             ],
             [
              0.5555555555555556,
              "#d8576b"
             ],
             [
              0.6666666666666666,
              "#ed7953"
             ],
             [
              0.7777777777777778,
              "#fb9f3a"
             ],
             [
              0.8888888888888888,
              "#fdca26"
             ],
             [
              1,
              "#f0f921"
             ]
            ],
            "type": "histogram2dcontour"
           }
          ],
          "mesh3d": [
           {
            "colorbar": {
             "outlinewidth": 0,
             "ticks": ""
            },
            "type": "mesh3d"
           }
          ],
          "parcoords": [
           {
            "line": {
             "colorbar": {
              "outlinewidth": 0,
              "ticks": ""
             }
            },
            "type": "parcoords"
           }
          ],
          "pie": [
           {
            "automargin": true,
            "type": "pie"
           }
          ],
          "scatter": [
           {
            "fillpattern": {
             "fillmode": "overlay",
             "size": 10,
             "solidity": 0.2
            },
            "type": "scatter"
           }
          ],
          "scatter3d": [
           {
            "line": {
             "colorbar": {
              "outlinewidth": 0,
              "ticks": ""
             }
            },
            "marker": {
             "colorbar": {
              "outlinewidth": 0,
              "ticks": ""
             }
            },
            "type": "scatter3d"
           }
          ],
          "scattercarpet": [
           {
            "marker": {
             "colorbar": {
              "outlinewidth": 0,
              "ticks": ""
             }
            },
            "type": "scattercarpet"
           }
          ],
          "scattergeo": [
           {
            "marker": {
             "colorbar": {
              "outlinewidth": 0,
              "ticks": ""
             }
            },
            "type": "scattergeo"
           }
          ],
          "scattergl": [
           {
            "marker": {
             "colorbar": {
              "outlinewidth": 0,
              "ticks": ""
             }
            },
            "type": "scattergl"
           }
          ],
          "scattermap": [
           {
            "marker": {
             "colorbar": {
              "outlinewidth": 0,
              "ticks": ""
             }
            },
            "type": "scattermap"
           }
          ],
          "scattermapbox": [
           {
            "marker": {
             "colorbar": {
              "outlinewidth": 0,
              "ticks": ""
             }
            },
            "type": "scattermapbox"
           }
          ],
          "scatterpolar": [
           {
            "marker": {
             "colorbar": {
              "outlinewidth": 0,
              "ticks": ""
             }
            },
            "type": "scatterpolar"
           }
          ],
          "scatterpolargl": [
           {
            "marker": {
             "colorbar": {
              "outlinewidth": 0,
              "ticks": ""
             }
            },
            "type": "scatterpolargl"
           }
          ],
          "scatterternary": [
           {
            "marker": {
             "colorbar": {
              "outlinewidth": 0,
              "ticks": ""
             }
            },
            "type": "scatterternary"
           }
          ],
          "surface": [
           {
            "colorbar": {
             "outlinewidth": 0,
             "ticks": ""
            },
            "colorscale": [
             [
              0,
              "#0d0887"
             ],
             [
              0.1111111111111111,
              "#46039f"
             ],
             [
              0.2222222222222222,
              "#7201a8"
             ],
             [
              0.3333333333333333,
              "#9c179e"
             ],
             [
              0.4444444444444444,
              "#bd3786"
             ],
             [
              0.5555555555555556,
              "#d8576b"
             ],
             [
              0.6666666666666666,
              "#ed7953"
             ],
             [
              0.7777777777777778,
              "#fb9f3a"
             ],
             [
              0.8888888888888888,
              "#fdca26"
             ],
             [
              1,
              "#f0f921"
             ]
            ],
            "type": "surface"
           }
          ],
          "table": [
           {
            "cells": {
             "fill": {
              "color": "#EBF0F8"
             },
             "line": {
              "color": "white"
             }
            },
            "header": {
             "fill": {
              "color": "#C8D4E3"
             },
             "line": {
              "color": "white"
             }
            },
            "type": "table"
           }
          ]
         },
         "layout": {
          "annotationdefaults": {
           "arrowcolor": "#2a3f5f",
           "arrowhead": 0,
           "arrowwidth": 1
          },
          "autotypenumbers": "strict",
          "coloraxis": {
           "colorbar": {
            "outlinewidth": 0,
            "ticks": ""
           }
          },
          "colorscale": {
           "diverging": [
            [
             0,
             "#8e0152"
            ],
            [
             0.1,
             "#c51b7d"
            ],
            [
             0.2,
             "#de77ae"
            ],
            [
             0.3,
             "#f1b6da"
            ],
            [
             0.4,
             "#fde0ef"
            ],
            [
             0.5,
             "#f7f7f7"
            ],
            [
             0.6,
             "#e6f5d0"
            ],
            [
             0.7,
             "#b8e186"
            ],
            [
             0.8,
             "#7fbc41"
            ],
            [
             0.9,
             "#4d9221"
            ],
            [
             1,
             "#276419"
            ]
           ],
           "sequential": [
            [
             0,
             "#0d0887"
            ],
            [
             0.1111111111111111,
             "#46039f"
            ],
            [
             0.2222222222222222,
             "#7201a8"
            ],
            [
             0.3333333333333333,
             "#9c179e"
            ],
            [
             0.4444444444444444,
             "#bd3786"
            ],
            [
             0.5555555555555556,
             "#d8576b"
            ],
            [
             0.6666666666666666,
             "#ed7953"
            ],
            [
             0.7777777777777778,
             "#fb9f3a"
            ],
            [
             0.8888888888888888,
             "#fdca26"
            ],
            [
             1,
             "#f0f921"
            ]
           ],
           "sequentialminus": [
            [
             0,
             "#0d0887"
            ],
            [
             0.1111111111111111,
             "#46039f"
            ],
            [
             0.2222222222222222,
             "#7201a8"
            ],
            [
             0.3333333333333333,
             "#9c179e"
            ],
            [
             0.4444444444444444,
             "#bd3786"
            ],
            [
             0.5555555555555556,
             "#d8576b"
            ],
            [
             0.6666666666666666,
             "#ed7953"
            ],
            [
             0.7777777777777778,
             "#fb9f3a"
            ],
            [
             0.8888888888888888,
             "#fdca26"
            ],
            [
             1,
             "#f0f921"
            ]
           ]
          },
          "colorway": [
           "#636efa",
           "#EF553B",
           "#00cc96",
           "#ab63fa",
           "#FFA15A",
           "#19d3f3",
           "#FF6692",
           "#B6E880",
           "#FF97FF",
           "#FECB52"
          ],
          "font": {
           "color": "#2a3f5f"
          },
          "geo": {
           "bgcolor": "white",
           "lakecolor": "white",
           "landcolor": "#E5ECF6",
           "showlakes": true,
           "showland": true,
           "subunitcolor": "white"
          },
          "hoverlabel": {
           "align": "left"
          },
          "hovermode": "closest",
          "mapbox": {
           "style": "light"
          },
          "paper_bgcolor": "white",
          "plot_bgcolor": "#E5ECF6",
          "polar": {
           "angularaxis": {
            "gridcolor": "white",
            "linecolor": "white",
            "ticks": ""
           },
           "bgcolor": "#E5ECF6",
           "radialaxis": {
            "gridcolor": "white",
            "linecolor": "white",
            "ticks": ""
           }
          },
          "scene": {
           "xaxis": {
            "backgroundcolor": "#E5ECF6",
            "gridcolor": "white",
            "gridwidth": 2,
            "linecolor": "white",
            "showbackground": true,
            "ticks": "",
            "zerolinecolor": "white"
           },
           "yaxis": {
            "backgroundcolor": "#E5ECF6",
            "gridcolor": "white",
            "gridwidth": 2,
            "linecolor": "white",
            "showbackground": true,
            "ticks": "",
            "zerolinecolor": "white"
           },
           "zaxis": {
            "backgroundcolor": "#E5ECF6",
            "gridcolor": "white",
            "gridwidth": 2,
            "linecolor": "white",
            "showbackground": true,
            "ticks": "",
            "zerolinecolor": "white"
           }
          },
          "shapedefaults": {
           "line": {
            "color": "#2a3f5f"
           }
          },
          "ternary": {
           "aaxis": {
            "gridcolor": "white",
            "linecolor": "white",
            "ticks": ""
           },
           "baxis": {
            "gridcolor": "white",
            "linecolor": "white",
            "ticks": ""
           },
           "bgcolor": "#E5ECF6",
           "caxis": {
            "gridcolor": "white",
            "linecolor": "white",
            "ticks": ""
           }
          },
          "title": {
           "x": 0.05
          },
          "xaxis": {
           "automargin": true,
           "gridcolor": "white",
           "linecolor": "white",
           "ticks": "",
           "title": {
            "standoff": 15
           },
           "zerolinecolor": "white",
           "zerolinewidth": 2
          },
          "yaxis": {
           "automargin": true,
           "gridcolor": "white",
           "linecolor": "white",
           "ticks": "",
           "title": {
            "standoff": 15
           },
           "zerolinecolor": "white",
           "zerolinewidth": 2
          }
         }
        }
       }
      }
     },
     "metadata": {},
     "output_type": "display_data"
    }
   ],
   "source": [
    "payload = {'id': dd.value}\n",
    "response=requests.get(f'{base_url}/route/', payload).json()\n",
    "df=pd.DataFrame(response['stops'])\n",
    "\n",
    "my_map = get_map(df, 'stop_lat', 'stop_lon', 'stop_sequence')\n",
    "my_map.show()"
   ]
  },
  {
   "cell_type": "code",
   "execution_count": null,
   "id": "7fbe0da2",
   "metadata": {},
   "outputs": [],
   "source": [
    "pd.DataFrame(response['stops'])"
   ]
  },
  {
   "cell_type": "code",
   "execution_count": null,
   "id": "c4282b63",
   "metadata": {},
   "outputs": [],
   "source": [
    "response"
   ]
  },
  {
   "cell_type": "code",
   "execution_count": null,
   "id": "9e6d4b04",
   "metadata": {},
   "outputs": [],
   "source": [
    "us_cities = pd.read_csv(\n",
    "    'https://raw.githubusercontent.com/plotly/datasets/master/us-cities-top-1k.csv'\n",
    ")\n",
    "\n",
    "traces = []\n",
    "buttons = []\n",
    "state_list = np.append('All_state', us_cities['State'].unique())\n",
    "visible = state_list\n",
    "for s in state_list:\n",
    "    #print(s)\n",
    "    if s == 'All_state':\n",
    "        filtered_df = us_cities.copy()\n",
    "    else:\n",
    "        filtered_df = us_cities[us_cities['State'] == s]\n",
    "\n",
    "    traces.append(go.Scattermapbox(\n",
    "        lat=filtered_df['lat'],\n",
    "        lon=filtered_df['lon'],\n",
    "        mode='markers',\n",
    "        visible=True if s == state_list[0] else False,\n",
    "        customdata=filtered_df,\n",
    "        hovertemplate='City: %{customdata[0]}<br>Population: %{customdata[2]}<extra></extra>',\n",
    "        marker=go.scattermapbox.Marker(\n",
    "            size=9,\n",
    "            color='fuchsia'\n",
    "        )\n",
    "    ))\n",
    "    \n",
    "    buttons.append(\n",
    "        dict(\n",
    "            method='update',\n",
    "            label=s,\n",
    "            args=[{'visible':list(visible==s)}],)\n",
    "    )\n",
    "\n",
    "fig = go.Figure(data=traces)\n",
    "fig.update_layout(\n",
    "    mapbox=dict(\n",
    "        style='open-street-map',\n",
    "        #accesstoken=mapbox_access_token,\n",
    "        bearing=0,\n",
    "        center=go.layout.mapbox.Center(\n",
    "            lat=us_cities['lat'].mean(),\n",
    "            lon=us_cities['lon'].mean(),\n",
    "        ),\n",
    "        zoom=3\n",
    "    ),\n",
    "    margin={'r':10, 't': 0, 'l': 0, 'b': 0}\n",
    ")\n",
    "\n",
    "fig.update_layout(\n",
    "    # autosize=False,\n",
    "    height=1000,\n",
    "    showlegend=False,\n",
    "    updatemenus=[\n",
    "        dict(\n",
    "            buttons=buttons,\n",
    "            direction='down',\n",
    "            x=0.05,\n",
    "            y=1.0,\n",
    "            xanchor='right',\n",
    "            yanchor='bottom',\n",
    "            font=dict(size=8)\n",
    "        ),\n",
    "    ]\n",
    ")\n",
    "\n",
    "fig.show()"
   ]
  },
  {
   "cell_type": "code",
   "execution_count": null,
   "id": "b732bfce",
   "metadata": {},
   "outputs": [],
   "source": []
  },
  {
   "cell_type": "code",
   "execution_count": null,
   "id": "aad021d2",
   "metadata": {},
   "outputs": [],
   "source": [
    "us_cities "
   ]
  }
 ],
 "metadata": {
  "kernelspec": {
   "display_name": "safety_data_env",
   "language": "python",
   "name": "python3"
  },
  "language_info": {
   "codemirror_mode": {
    "name": "ipython",
    "version": 3
   },
   "file_extension": ".py",
   "mimetype": "text/x-python",
   "name": "python",
   "nbconvert_exporter": "python",
   "pygments_lexer": "ipython3",
   "version": "3.11.11"
  }
 },
 "nbformat": 4,
 "nbformat_minor": 5
}
